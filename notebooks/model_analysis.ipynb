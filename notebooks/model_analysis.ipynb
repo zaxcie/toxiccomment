{
 "cells": [
  {
   "cell_type": "code",
   "execution_count": 21,
   "metadata": {
    "collapsed": true
   },
   "outputs": [],
   "source": [
    "import pandas as pd\n",
    "import numpy as np\n",
    "from sklearn.metrics import *\n",
    "import matplotlib.pyplot as plt\n"
   ]
  },
  {
   "cell_type": "code",
   "execution_count": 3,
   "metadata": {},
   "outputs": [],
   "source": [
    "train = pd.read_csv(\"data/processed/train_split_80.csv\")\n",
    "val = pd.read_csv(\"data/processed/val_split_80.csv\")\n",
    "\n"
   ]
  },
  {
   "cell_type": "code",
   "execution_count": 57,
   "metadata": {},
   "outputs": [],
   "source": [
    "# Model\n",
    "model_name = \"2018-01-21_01-59-20\"\n",
    "model_dir = \"/Users/kforest/Documents/workspace/toxiccomment/models/\"\n",
    "model_path = model_dir + model_name + \"/\"\n",
    "\n",
    "out = pd.read_csv(model_path + \"val_out.csv\")"
   ]
  },
  {
   "cell_type": "code",
   "execution_count": 8,
   "metadata": {},
   "outputs": [],
   "source": [
    "label_cols = ['toxic', 'severe_toxic', 'obscene', 'threat', 'insult', 'identity_hate']"
   ]
  },
  {
   "cell_type": "code",
   "execution_count": 22,
   "metadata": {},
   "outputs": [
    {
     "name": "stderr",
     "output_type": "stream",
     "text": [
      "No handles with labels found to put in legend.\n"
     ]
    },
    {
     "data": {
      "image/png": "[encoded data removed]",
      "text/plain": [
       "<matplotlib.figure.Figure at 0x10b409b70>"
      ]
     },
     "metadata": {},
     "output_type": "display_data"
    }
   ],
   "source": [
    "fpr, tpr, thresholds = roc_curve(val[\"toxic\"], out[\"toxic\"])\n",
    "len(fpr)\n",
    "\n",
    "plt.figure()\n",
    "lw = 2\n",
    "plt.plot(fpr, tpr, color='darkorange',\n",
    "         lw=lw)\n",
    "plt.plot([0, 1], [0, 1], color='navy', lw=lw, linestyle='--')\n",
    "plt.xlim([0.0, 1.0])\n",
    "plt.ylim([0.0, 1.05])\n",
    "plt.xlabel('False Positive Rate')\n",
    "plt.ylabel('True Positive Rate')\n",
    "plt.title('Receiver operating characteristic example')\n",
    "plt.legend(loc=\"lower right\")\n",
    "plt.show()"
   ]
  },
  {
   "cell_type": "code",
   "execution_count": 64,
   "metadata": {},
   "outputs": [
    {
     "name": "stdout",
     "output_type": "stream",
     "text": [
      "toxic\n0.787791222684\n0.963183456055\n0.69792\n0.904228855721\n"
     ]
    },
    {
     "name": "stdout",
     "output_type": "stream",
     "text": [
      "[[28559   231]\n [  944  2181]]\nsevere_toxic\n0.371134020619\n0.990443365189\n0.286624203822\n0.526315789474\n"
     ]
    },
    {
     "name": "stdout",
     "output_type": "stream",
     "text": [
      "[[31520    81]\n [  224    90]]\nobscene\n0.800763844685\n0.980385398715\n0.730121880441\n0.886539816772\n"
     ]
    },
    {
     "name": "stdout",
     "output_type": "stream",
     "text": [
      "[[30031   161]\n [  465  1258]]\nthreat\n0.483870967742\n0.997994673351\n0.340909090909\n0.833333333333\n"
     ]
    },
    {
     "name": "stdout",
     "output_type": "stream",
     "text": [
      "[[31821     6]\n [   58    30]]\ninsult\n0.696669029057\n0.973178756071\n0.606041923551\n0.819166666667\n"
     ]
    },
    {
     "name": "stdout",
     "output_type": "stream",
     "text": [
      "[[30076   217]\n [  639   983]]\nidentity_hate\n0.397196261682\n0.991916026947\n0.286195286195\n0.648854961832\n"
     ]
    },
    {
     "name": "stdout",
     "output_type": "stream",
     "text": [
      "[[31572    46]\n [  212    85]]\n"
     ]
    }
   ],
   "source": [
    "for i in label_cols:\n",
    "    print(i)\n",
    "    print(f1_score(val[i], out[i+\"_\"]))\n",
    "    print(accuracy_score(val[i], out[i+\"_\"]))\n",
    "    print(recall_score(val[i], out[i+\"_\"]))\n",
    "    print(precision_score(val[i], out[i+\"_\"]))\n",
    "    print(confusion_matrix(val[i], out[i+\"_\"]))\n"
   ]
  },
  {
   "cell_type": "code",
   "execution_count": 66,
   "metadata": {},
   "outputs": [
    {
     "data": {
      "text/plain": [
       "0.05108040359637861"
      ]
     },
     "execution_count": 66,
     "metadata": {},
     "output_type": "execute_result"
    }
   ],
   "source": [
    "class_loss = []\n",
    "for i in label_cols:\n",
    "    class_loss.append(log_loss(val[i], out[i]))\n",
    "\n",
    "np.asarray(class_loss).mean()"
   ]
  }
 ],
 "metadata": {
  "kernelspec": {
   "display_name": "Python 2",
   "language": "python",
   "name": "python2"
  },
  "language_info": {
   "codemirror_mode": {
    "name": "ipython",
    "version": 2
   },
   "file_extension": ".py",
   "mimetype": "text/x-python",
   "name": "python",
   "nbconvert_exporter": "python",
   "pygments_lexer": "ipython2",
   "version": "2.7.6"
  }
 },
 "nbformat": 4,
 "nbformat_minor": 0
}
